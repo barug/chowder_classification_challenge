{
 "cells": [
  {
   "cell_type": "code",
   "execution_count": null,
   "metadata": {},
   "outputs": [],
   "source": [
    "%matplotlib notebook\n",
    "import matplotlib.pyplot as plt\n",
    "import numpy as np\n",
    "from pathlib import Path\n",
    "import pandas as pd\n",
    "import matplotlib.image as mpimg\n",
    "import glob\n",
    "%matplotlib inline"
   ]
  },
  {
   "cell_type": "code",
   "execution_count": null,
   "metadata": {},
   "outputs": [],
   "source": [
    "data_dir = Path('data_dummy')\n",
    "train_dir = data_dir / \"train_input\" / \"resnet_features\"\n",
    "train_output_filename = data_dir / \"train_output.csv\"\n",
    "train_output = pd.read_csv(train_output_filename)\n",
    "\n",
    "filenames_train = [train_dir / \"{}.npy\".format(idx) for idx in train_output[\"ID\"]]\n",
    "\n",
    "max_tiles_nbr = 1000\n",
    "\n",
    "features = []\n",
    "for i, f in enumerate(filenames_train):\n",
    "    patient_features = np.load(f)\n",
    "    patient_features = patient_features[:, 3:]\n",
    "    #np.set_printoptions(threshold=np.inf)\n",
    "    #np.set_printoptions(suppress=True)\n",
    "    pad_size = max_tiles_nbr - patient_features.shape[0]\n",
    "    left_pad = pad_size // 2\n",
    "    right_pad = pad_size // 2 + pad_size % 2\n",
    "    padded_features = np.pad(patient_features, ((left_pad, right_pad), (0,0)), mode='constant', constant_values=(0,))\n",
    "\n",
    "    if pad_size > 0:\n",
    "        print(patient_features.shape)\n",
    "        fig, ax = plt.subplots()\n",
    "        plt.imshow(padded_features)\n",
    "\n",
    "        padded_features = padded_features.transpose(1, 0)\n",
    "\n",
    "        fig, ax = plt.subplots()\n",
    "        plt.imshow(padded_features)\n",
    "\n",
    "\n"
   ]
  },
  {
   "cell_type": "code",
   "execution_count": null,
   "metadata": {},
   "outputs": [],
   "source": [
    "import pickle\n",
    "np.set_printoptions(threshold=np.inf)\n",
    "\n",
    "results = pickle.load(open('results.p', \"rb\"))\n"
   ]
  },
  {
   "cell_type": "code",
   "execution_count": null,
   "metadata": {},
   "outputs": [],
   "source": [
    "for id_key, res in results.items():\n",
    "    print(id_key, res['prediction'])"
   ]
  },
  {
   "cell_type": "code",
   "execution_count": null,
   "metadata": {},
   "outputs": [],
   "source": [
    "def show_tiles(id_patient, tiles, i):\n",
    "        for tile_meta in tiles:\n",
    "            z, x, y = tile_meta[:3].astype(int)\n",
    "            s = tile_meta[3]\n",
    "            path = form.format(id = id_patient,zoom = z, x = x, y = y)\n",
    "            g = glob.glob(path)[0]\n",
    "            plt.subplot(4,5,i)\n",
    "            plt.title(\"z={} x={} y={} s={:.3f}\".format(z, x, y, s))\n",
    "            plt.axis('off')\n",
    "            plt.imshow(mpimg.imread(g))\n",
    "            i += 1\n",
    "        return i\n",
    "\n",
    "def plot_bot_top_tiles(id_patient):\n",
    "    res = results[id_patient]['tiles']\n",
    "    sort = np.argsort(res[:, 3])\n",
    "\n",
    "    bot_idx = sort[:10]\n",
    "    top_idx = sort[-10:]\n",
    "    top = res[top_idx]\n",
    "    bot = res[bot_idx]\n",
    "\n",
    "    \n",
    "    form = 'data_images/test_input/{id}/{id}_tile_*_{zoom}_{x}_{y}.jpg'\n",
    "\n",
    "    plt.rcParams[\"figure.figsize\"] = [20, 10]\n",
    "\n",
    "    i = 1\n",
    "    i = show_tiles(id_patient, bot, i)\n",
    "    i = show_tiles(id_patient, top, i)"
   ]
  },
  {
   "cell_type": "code",
   "execution_count": null,
   "metadata": {},
   "outputs": [],
   "source": [
    "max_key = max(results, key=lambda id_key: results[id_key]['prediction'])\n",
    "print(max_key, results[max_key]['prediction'])\n",
    "plot_bot_top_tiles(max_key)"
   ]
  },
  {
   "cell_type": "code",
   "execution_count": null,
   "metadata": {},
   "outputs": [],
   "source": [
    "min_key = min(results, key=lambda id_key: results[id_key]['prediction'])\n",
    "print(min_key, results[min_key]['prediction'])\n",
    "plot_bot_top_tiles(min_key)"
   ]
  }
 ],
 "metadata": {
  "kernelspec": {
   "display_name": "owkin2_test",
   "language": "python",
   "name": "owkin2_test"
  },
  "language_info": {
   "codemirror_mode": {
    "name": "ipython",
    "version": 3
   },
   "file_extension": ".py",
   "mimetype": "text/x-python",
   "name": "python",
   "nbconvert_exporter": "python",
   "pygments_lexer": "ipython3",
   "version": "3.5.2"
  }
 },
 "nbformat": 4,
 "nbformat_minor": 2
}
